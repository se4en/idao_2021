{
 "cells": [
  {
   "cell_type": "code",
   "execution_count": 1,
   "id": "departmental-korean",
   "metadata": {},
   "outputs": [],
   "source": [
    "import os\n",
    "import pathlib as path\n",
    "import numpy as np\n",
    "import pandas as pd\n",
    "import cv2\n",
    "from PIL import Image\n",
    "from tqdm import tqdm\n",
    "from glob import iglob\n",
    "import csv\n",
    "\n",
    "import matplotlib.pyplot as plt\n",
    "import matplotlib.image as mpimg\n",
    "from sklearn.metrics import roc_auc_score, mean_absolute_error\n",
    "from IPython.display import clear_output\n",
    "%matplotlib inline"
   ]
  },
  {
   "cell_type": "code",
   "execution_count": 2,
   "id": "white-price",
   "metadata": {},
   "outputs": [],
   "source": [
    "from torch.utils.data import DataLoader\n",
    "import torch\n",
    "from torch import nn\n",
    "from torch.nn import functional as F\n",
    "from torchvision.datasets import DatasetFolder\n",
    "from torch.utils.data import Dataset\n",
    "from torchvision.transforms.functional import to_tensor\n",
    "\n",
    "from torch.utils.data.dataset import random_split"
   ]
  },
  {
   "cell_type": "code",
   "execution_count": 3,
   "id": "nonprofit-broadway",
   "metadata": {},
   "outputs": [
    {
     "name": "stderr",
     "output_type": "stream",
     "text": [
      "/home/dmitry/ml/lib/python3.8/site-packages/torch/cuda/__init__.py:52: UserWarning: CUDA initialization: Found no NVIDIA driver on your system. Please check that you have an NVIDIA GPU and installed a driver from http://www.nvidia.com/Download/index.aspx (Triggered internally at  /pytorch/c10/cuda/CUDAFunctions.cpp:100.)\n",
      "  return torch._C._cuda_getDeviceCount() > 0\n"
     ]
    }
   ],
   "source": [
    "if torch.cuda.is_available():\n",
    "    torch.set_default_tensor_type('torch.cuda.FloatTensor')"
   ]
  },
  {
   "cell_type": "markdown",
   "id": "controlled-apparatus",
   "metadata": {},
   "source": [
    "#### Dataloader"
   ]
  },
  {
   "cell_type": "code",
   "execution_count": 4,
   "id": "comparative-amplifier",
   "metadata": {},
   "outputs": [],
   "source": [
    "def img_loader(path: str):\n",
    "    return cv2.imread(path, cv2.IMREAD_UNCHANGED)"
   ]
  },
  {
   "cell_type": "code",
   "execution_count": 5,
   "id": "elder-newfoundland",
   "metadata": {},
   "outputs": [],
   "source": [
    "def name_to_energy(name):\n",
    "    try:\n",
    "        names = os.path.split(name)[-1].split(\"_\")\n",
    "        idx = [i for i, v in enumerate(names) if v == \"keV\"][0]\n",
    "        return torch.tensor(float(names[idx - 1]))\n",
    "    except Exception as e:\n",
    "        return torch.tensor(-1.0)"
   ]
  },
  {
   "cell_type": "code",
   "execution_count": 6,
   "id": "signed-overview",
   "metadata": {},
   "outputs": [],
   "source": [
    "#def name_to_index(self, name):\n",
    "#   return os.path.split(name)[-1].split('.')[0]"
   ]
  },
  {
   "cell_type": "code",
   "execution_count": 7,
   "id": "central-maximum",
   "metadata": {},
   "outputs": [],
   "source": [
    "def name_to_label(name):\n",
    "    try:\n",
    "        names = os.path.split(name)[-1].split(\"_\")\n",
    "        for name in names:\n",
    "            if name==\"ER\":\n",
    "                return torch.tensor(0)\n",
    "            elif name==\"NR\":\n",
    "                return torch.tensor(1)\n",
    "    except Exception as e:\n",
    "        return torch.tensor(-1.0)"
   ]
  },
  {
   "cell_type": "code",
   "execution_count": 8,
   "id": "casual-replacement",
   "metadata": {},
   "outputs": [],
   "source": [
    "class IDAODataset(Dataset):\n",
    "    \n",
    "    def __init__(self, main_dir, mode: [\"classification\", \"regression\"] = \"classification\", img_size=300):\n",
    "        self.img_loader = img_loader\n",
    "        self.mode = mode\n",
    "        self.img_size = img_size\n",
    "        self.all_imgs = list(iglob(main_dir + \"**/*.png\"))\n",
    "\n",
    "    def __len__(self):\n",
    "        return len(self.all_imgs)\n",
    "\n",
    "    def __getitem__(self, idx):\n",
    "        img_name = self.all_imgs[idx]\n",
    "        res_img = self.img_loader(img_name)\n",
    "        res_img = torch.reshape(to_tensor(np.expand_dims(res_img, axis=0)), (1, self.img_size, self.img_size))\n",
    "        if self.mode == \"classification\":\n",
    "            res_target = name_to_label(img_name)\n",
    "        else:\n",
    "            res_target = name_to_energy(img_name)\n",
    "        return res_img, res_target"
   ]
  },
  {
   "cell_type": "code",
   "execution_count": 9,
   "id": "charitable-mountain",
   "metadata": {},
   "outputs": [],
   "source": [
    "class SplitDataset(Dataset):\n",
    "    def __init__(self, subset, transform=None):\n",
    "        self.subset = subset\n",
    "        self.transform = transform\n",
    "        \n",
    "    def __getitem__(self, index):\n",
    "        x, y = self.subset[index]\n",
    "        if self.transform:\n",
    "            x = self.transform(x)\n",
    "        return x, y\n",
    "        \n",
    "    def __len__(self):\n",
    "        return len(self.subset)"
   ]
  },
  {
   "cell_type": "markdown",
   "id": "equal-teddy",
   "metadata": {},
   "source": [
    "#### Datasets"
   ]
  },
  {
   "cell_type": "code",
   "execution_count": 11,
   "id": "mineral-burning",
   "metadata": {},
   "outputs": [],
   "source": [
    "main_dir = \"idao_dataset/train_prep_max/\""
   ]
  },
  {
   "cell_type": "code",
   "execution_count": 12,
   "id": "computational-forth",
   "metadata": {},
   "outputs": [],
   "source": [
    "def split_dataset(dataset, val_part=0.2):\n",
    "    percet_20 = int(val_part*len(dataset))\n",
    "    train_set, val_set = random_split(\n",
    "        dataset, [len(dataset)-percet_20, percet_20], generator=torch.Generator().manual_seed(666)\n",
    "    )\n",
    "    return train_set, val_set"
   ]
  },
  {
   "cell_type": "markdown",
   "id": "arabic-consistency",
   "metadata": {},
   "source": [
    "#### Model"
   ]
  },
  {
   "cell_type": "markdown",
   "id": "hollywood-detective",
   "metadata": {},
   "source": [
    "All model architecture here"
   ]
  },
  {
   "cell_type": "code",
   "execution_count": 22,
   "id": "professional-details",
   "metadata": {},
   "outputs": [],
   "source": [
    "class SimpleConv(nn.Module):\n",
    "    \n",
    "    def __init__(self, mode: [\"classification\", \"regression\"] = \"classification\"):\n",
    "        super(SimpleConv, self).__init__()\n",
    "        self.mode = mode\n",
    "        self.layer1 = nn.Sequential(\n",
    "            nn.Conv2d(1, 8, kernel_size=5, stride=1, padding=2), # -> 300*300*8\n",
    "            nn.BatchNorm2d(8),\n",
    "            nn.ReLU(), \n",
    "            nn.MaxPool2d(kernel_size=10, stride=10), # -> 30*30*8\n",
    "            nn.Conv2d(8, 16, kernel_size=3, stride=1, padding=1), # -> 30*30*16\n",
    "            nn.BatchNorm2d(16),\n",
    "            nn.ReLU(), \n",
    "            nn.MaxPool2d(kernel_size=3, stride=3), # -> 10*10*16\n",
    "            nn.Conv2d(16, 32, kernel_size=3, stride=1, padding=1), # -> 10*10*32\n",
    "            nn.BatchNorm2d(32),\n",
    "            nn.ReLU(), \n",
    "            nn.Flatten(), \n",
    "        )\n",
    "        \n",
    "        self.fc = nn.Sequential( # for classification\n",
    "            nn.Linear(3200, 1600),\n",
    "            nn.ReLU(), \n",
    "            nn.Dropout(),\n",
    "            nn.Linear(1600, 500),\n",
    "            nn.ReLU(), \n",
    "            nn.Dropout(),\n",
    "            nn.Linear(500, 1),\n",
    "        )\n",
    "        #self.fc2 = nn.Sequential( # for regression\n",
    "        #    nn.ReLU(), \n",
    "        #    nn.Dropout(),\n",
    "        #    nn.Linear(500, 1),\n",
    "        #)\n",
    "        \n",
    "        self.stem = nn.Sequential(\n",
    "            self.layer1, \n",
    "            nn.Dropout(), \n",
    "            self.fc,\n",
    "            )\n",
    "        if self.mode == \"classification\":\n",
    "            self.classification = nn.Sequential(self.stem, nn.Sigmoid())\n",
    "        else:\n",
    "            self.regression = self.stem\n",
    "    \n",
    "    def forward(self, x):\n",
    "        if self.mode == \"classification\":\n",
    "            x = self.classification(x)\n",
    "        else:\n",
    "            x = self.regression(x)\n",
    "        return x"
   ]
  },
  {
   "cell_type": "markdown",
   "id": "continental-insider",
   "metadata": {},
   "source": [
    "Just train loop  -  nothing interesting"
   ]
  },
  {
   "cell_type": "code",
   "execution_count": 23,
   "id": "hundred-still",
   "metadata": {},
   "outputs": [],
   "source": [
    "def train(network, train_loader, val_loader, epochs, learning_rate,\n",
    "          mode: [\"classification\", \"regression\"] = \"classification\"):\n",
    "    \n",
    "    # init \n",
    "    if mode == \"classification\":\n",
    "        loss = nn.BCELoss()\n",
    "    else:\n",
    "        loss = nn.L1Loss() # MAE\n",
    "    optimizer = torch.optim.Adam(network.parameters(), lr=learning_rate)\n",
    "    train_loss_epochs = []\n",
    "    test_loss_epochs = []\n",
    "    train_accuracy_epochs = []\n",
    "    test_accuracy_epochs = []\n",
    "    \n",
    "    # train loop\n",
    "    try:\n",
    "        for epoch in range(epochs):\n",
    "            \n",
    "            # epoch train\n",
    "            losses = []\n",
    "            accuracies = []\n",
    "            network.train()\n",
    "            for X, y in train_loader:\n",
    "                optimizer.zero_grad()\n",
    "                prediction = network(X)\n",
    "                y = y.view(-1, 1)\n",
    "                loss_batch = loss(prediction, y.float())\n",
    "                losses.append(loss_batch.item())\n",
    "                loss_batch.backward()                \n",
    "                optimizer.step()\n",
    "\n",
    "                y_pred = prediction.data.numpy()\n",
    "                if mode == \"classification\":\n",
    "                    y_pred[y_pred > 0.5] = 1\n",
    "                    y_pred[y_pred <= 0.5] = 0\n",
    "                    accuracies.append((y_pred==y.data.numpy()).mean())\n",
    "                else:\n",
    "                    y_pred[y_pred <= 1.5] = 1 \n",
    "                    y_pred[np.logical_and(y_pred > 1.5, y_pred < 4.5)] = 3\n",
    "                    y_pred[np.logical_and(y_pred >= 4.5, y_pred < 8)] = 6\n",
    "                    y_pred[np.logical_and(y_pred >= 8, y_pred < 15)] = 10\n",
    "                    y_pred[np.logical_and(y_pred >= 15, y_pred < 25)] = 20\n",
    "                    y_pred[y_pred >= 25] = 30\n",
    "                    accuracies.append(mean_absolute_error(y.data.numpy(), y_pred))\n",
    "            train_loss_epochs.append(np.mean(losses))\n",
    "            train_accuracy_epochs.append(np.mean(accuracies))\n",
    "            \n",
    "            # epoch validation\n",
    "            losses = []\n",
    "            accuracies = []\n",
    "            network.eval()\n",
    "            with torch.no_grad():\n",
    "                for X, y in val_loader:\n",
    "                    prediction = network(X)\n",
    "                    y = y.view(-1, 1)\n",
    "                    loss_batch = loss(prediction, y.float())\n",
    "                    losses.append(loss_batch.item())                \n",
    "                    \n",
    "                    y_pred = prediction.data.numpy()\n",
    "                    if mode == \"classification\":\n",
    "                        y_pred[y_pred > 0.5] = 1\n",
    "                        y_pred[y_pred <= 0.5] = 0\n",
    "                        accuracies.append((y_pred==y.data.numpy()).mean())\n",
    "                    else:\n",
    "                        y_pred[y_pred <= 1.5] = 1 \n",
    "                        y_pred[np.logical_and(y_pred > 1.5, y_pred < 4.5)] = 3\n",
    "                        y_pred[np.logical_and(y_pred >= 4.5, y_pred < 8)] = 6\n",
    "                        y_pred[np.logical_and(y_pred >= 8, y_pred < 15)] = 10\n",
    "                        y_pred[np.logical_and(y_pred >= 15, y_pred < 25)] = 20\n",
    "                        y_pred[y_pred >= 25] = 30\n",
    "                        accuracies.append(mean_absolute_error(y.data.numpy(), y_pred))\n",
    "            test_loss_epochs.append(np.mean(losses))\n",
    "            test_accuracy_epochs.append(np.mean(accuracies))\n",
    "            \n",
    "            # draw\n",
    "            clear_output(True)\n",
    "            if mode == \"classification\":\n",
    "                print('\\rEpoch {0}... (Train/Test) BCE: {1:.3f}/{2:.3f}\\tAccuracy: {3:.3f}/{4:.3f}'.format(\n",
    "                            epoch, train_loss_epochs[-1], test_loss_epochs[-1],\n",
    "                            train_accuracy_epochs[-1], test_accuracy_epochs[-1]))\n",
    "            else:\n",
    "                print('\\rEpoch {0}... (Train/Test) MAE: {1:.3f}/{2:.3f}\\tMAE after rounding: {3:.3f}/{4:.3f}'.format(\n",
    "                            epoch, train_loss_epochs[-1], test_loss_epochs[-1],\n",
    "                            train_accuracy_epochs[-1], test_accuracy_epochs[-1]))\n",
    "            plt.figure(figsize=(12, 5))\n",
    "            plt.subplot(1, 2, 1)\n",
    "            plt.plot(train_loss_epochs, label='Train')\n",
    "            plt.plot(test_loss_epochs, label='Test')\n",
    "            plt.xlabel('Epochs', fontsize=16)\n",
    "            plt.ylabel('Loss', fontsize=16)\n",
    "            plt.legend(loc=0, fontsize=16)\n",
    "            plt.grid()\n",
    "            plt.subplot(1, 2, 2)\n",
    "            if mode == \"classification\":\n",
    "                plt.plot(train_accuracy_epochs, label='Train Accuracy')\n",
    "                plt.plot(test_accuracy_epochs, label='Test Accuracy')\n",
    "            else:\n",
    "                plt.plot(train_accuracy_epochs, label='Train MAE')\n",
    "                plt.plot(test_accuracy_epochs, label='Test MAE')\n",
    "            plt.xlabel('Epochs', fontsize=16)\n",
    "            plt.ylabel('Loss', fontsize=16)\n",
    "            plt.legend(loc=0, fontsize=16)\n",
    "            plt.grid()\n",
    "            plt.show()\n",
    "    except KeyboardInterrupt:\n",
    "        pass"
   ]
  },
  {
   "cell_type": "markdown",
   "id": "roman-subdivision",
   "metadata": {},
   "source": [
    "# Train network"
   ]
  },
  {
   "cell_type": "markdown",
   "id": "basic-wilson",
   "metadata": {},
   "source": [
    "#### Classification"
   ]
  },
  {
   "cell_type": "code",
   "execution_count": 24,
   "id": "endless-given",
   "metadata": {},
   "outputs": [],
   "source": [
    "mode = \"classification\""
   ]
  },
  {
   "cell_type": "markdown",
   "id": "skilled-three",
   "metadata": {},
   "source": [
    "Init dataset"
   ]
  },
  {
   "cell_type": "code",
   "execution_count": 25,
   "id": "integral-summit",
   "metadata": {},
   "outputs": [],
   "source": [
    "class_dataset = IDAODataset(main_dir, mode)"
   ]
  },
  {
   "cell_type": "code",
   "execution_count": 26,
   "id": "athletic-bicycle",
   "metadata": {},
   "outputs": [],
   "source": [
    "class_train_set, class_val_set = split_dataset(class_dataset)"
   ]
  },
  {
   "cell_type": "code",
   "execution_count": 27,
   "id": "abstract-coverage",
   "metadata": {},
   "outputs": [],
   "source": [
    "class_train_dataset = SplitDataset(class_train_set)\n",
    "class_val_dataset = SplitDataset(class_val_set)"
   ]
  },
  {
   "cell_type": "code",
   "execution_count": 28,
   "id": "official-peninsula",
   "metadata": {},
   "outputs": [],
   "source": [
    "class_train_loader = DataLoader(class_train_dataset, batch_size=100,\n",
    "                        shuffle=True, num_workers=0)\n",
    "class_val_loader = DataLoader(class_val_dataset, batch_size=100,\n",
    "                        shuffle=True, num_workers=0)"
   ]
  },
  {
   "cell_type": "markdown",
   "id": "married-waste",
   "metadata": {},
   "source": [
    "Init model"
   ]
  },
  {
   "cell_type": "code",
   "execution_count": 29,
   "id": "passive-september",
   "metadata": {},
   "outputs": [],
   "source": [
    "class_model = SimpleConv(mode)\n",
    "if torch.cuda.is_available():\n",
    "    class_model.cuda()"
   ]
  },
  {
   "cell_type": "markdown",
   "id": "textile-style",
   "metadata": {},
   "source": [
    "Train model"
   ]
  },
  {
   "cell_type": "code",
   "execution_count": 31,
   "id": "verbal-crash",
   "metadata": {},
   "outputs": [
    {
     "name": "stdout",
     "output_type": "stream",
     "text": [
      "\r",
      "Epoch 13... (Train/Test) BCE: 0.014/0.154\tAccuracy: 0.998/0.964\n"
     ]
    },
    {
     "data": {
      "image/png": "[encoded data removed]",
      "text/plain": [
       "<Figure size 864x360 with 2 Axes>"
      ]
     },
     "metadata": {
      "needs_background": "light"
     },
     "output_type": "display_data"
    }
   ],
   "source": [
    "train(class_model, class_train_loader, class_val_loader, 20, 0.001, mode)"
   ]
  },
  {
   "cell_type": "markdown",
   "id": "personal-launch",
   "metadata": {},
   "source": [
    "#### Regression"
   ]
  },
  {
   "cell_type": "code",
   "execution_count": 47,
   "id": "talented-underwear",
   "metadata": {},
   "outputs": [],
   "source": [
    "mode = \"regression\""
   ]
  },
  {
   "cell_type": "markdown",
   "id": "united-tracker",
   "metadata": {},
   "source": [
    "Init dataset"
   ]
  },
  {
   "cell_type": "code",
   "execution_count": 48,
   "id": "veterinary-norman",
   "metadata": {},
   "outputs": [],
   "source": [
    "reg_dataset = IDAODataset(main_dir, mode)"
   ]
  },
  {
   "cell_type": "code",
   "execution_count": 49,
   "id": "crude-timer",
   "metadata": {},
   "outputs": [],
   "source": [
    "reg_train_set, reg_val_set = split_dataset(reg_dataset)"
   ]
  },
  {
   "cell_type": "code",
   "execution_count": 50,
   "id": "satisfied-rebecca",
   "metadata": {},
   "outputs": [],
   "source": [
    "reg_train_dataset = SplitDataset(reg_train_set)\n",
    "reg_val_dataset = SplitDataset(reg_val_set)"
   ]
  },
  {
   "cell_type": "code",
   "execution_count": 52,
   "id": "parliamentary-reset",
   "metadata": {},
   "outputs": [],
   "source": [
    "reg_train_loader = DataLoader(reg_train_dataset, batch_size=200,\n",
    "                        shuffle=True, num_workers=0)\n",
    "reg_val_loader = DataLoader(reg_val_dataset, batch_size=200,\n",
    "                        shuffle=True, num_workers=0)"
   ]
  },
  {
   "cell_type": "markdown",
   "id": "after-workplace",
   "metadata": {},
   "source": [
    "Init model"
   ]
  },
  {
   "cell_type": "code",
   "execution_count": 53,
   "id": "chinese-messenger",
   "metadata": {},
   "outputs": [],
   "source": [
    "reg_model = SimpleConv(mode)\n",
    "if torch.cuda.is_available():\n",
    "    reg_model.cuda()"
   ]
  },
  {
   "cell_type": "markdown",
   "id": "excellent-reader",
   "metadata": {},
   "source": [
    "Train model"
   ]
  },
  {
   "cell_type": "code",
   "execution_count": 54,
   "id": "necessary-understanding",
   "metadata": {},
   "outputs": [],
   "source": [
    "train(reg_model, reg_train_loader, reg_val_loader, 5, 0.001, mode)"
   ]
  },
  {
   "cell_type": "markdown",
   "id": "logical-seeking",
   "metadata": {},
   "source": [
    "### Submition"
   ]
  },
  {
   "cell_type": "code",
   "execution_count": 55,
   "id": "turkish-purchase",
   "metadata": {},
   "outputs": [],
   "source": [
    "df = pd.read_csv(\"track1_predictions_example.csv\")"
   ]
  },
  {
   "cell_type": "code",
   "execution_count": 56,
   "id": "advance-alias",
   "metadata": {},
   "outputs": [
    {
     "data": {
      "text/html": [
       "<div>\n",
       "<style scoped>\n",
       "    .dataframe tbody tr th:only-of-type {\n",
       "        vertical-align: middle;\n",
       "    }\n",
       "\n",
       "    .dataframe tbody tr th {\n",
       "        vertical-align: top;\n",
       "    }\n",
       "\n",
       "    .dataframe thead th {\n",
       "        text-align: right;\n",
       "    }\n",
       "</style>\n",
       "<table border=\"1\" class=\"dataframe\">\n",
       "  <thead>\n",
       "    <tr style=\"text-align: right;\">\n",
       "      <th></th>\n",
       "      <th>id</th>\n",
       "      <th>classification_predictions</th>\n",
       "      <th>regression_predictions</th>\n",
       "    </tr>\n",
       "  </thead>\n",
       "  <tbody>\n",
       "    <tr>\n",
       "      <th>0</th>\n",
       "      <td>0002894871bb30af2670648c58b2506e9801a321</td>\n",
       "      <td>1</td>\n",
       "      <td>1</td>\n",
       "    </tr>\n",
       "    <tr>\n",
       "      <th>1</th>\n",
       "      <td>000a95ca23df016a149ff9af94b6e9d8633d6691</td>\n",
       "      <td>1</td>\n",
       "      <td>1</td>\n",
       "    </tr>\n",
       "    <tr>\n",
       "      <th>2</th>\n",
       "      <td>000b4407dee7dad2ba46586e6ba1264f45965e51</td>\n",
       "      <td>1</td>\n",
       "      <td>1</td>\n",
       "    </tr>\n",
       "    <tr>\n",
       "      <th>3</th>\n",
       "      <td>000c45d729066044e3dd3f885fddf013b845b6d7</td>\n",
       "      <td>1</td>\n",
       "      <td>1</td>\n",
       "    </tr>\n",
       "    <tr>\n",
       "      <th>4</th>\n",
       "      <td>0011f80e44faa713714ead6aeab3b2f9db54aebd</td>\n",
       "      <td>1</td>\n",
       "      <td>1</td>\n",
       "    </tr>\n",
       "  </tbody>\n",
       "</table>\n",
       "</div>"
      ],
      "text/plain": [
       "                                         id  classification_predictions  \\\n",
       "0  0002894871bb30af2670648c58b2506e9801a321                           1   \n",
       "1  000a95ca23df016a149ff9af94b6e9d8633d6691                           1   \n",
       "2  000b4407dee7dad2ba46586e6ba1264f45965e51                           1   \n",
       "3  000c45d729066044e3dd3f885fddf013b845b6d7                           1   \n",
       "4  0011f80e44faa713714ead6aeab3b2f9db54aebd                           1   \n",
       "\n",
       "   regression_predictions  \n",
       "0                       1  \n",
       "1                       1  \n",
       "2                       1  \n",
       "3                       1  \n",
       "4                       1  "
      ]
     },
     "execution_count": 56,
     "metadata": {},
     "output_type": "execute_result"
    }
   ],
   "source": [
    "df.head()"
   ]
  },
  {
   "cell_type": "code",
   "execution_count": 57,
   "id": "still-pound",
   "metadata": {},
   "outputs": [
    {
     "data": {
      "text/plain": [
       "(16564, 3)"
      ]
     },
     "execution_count": 57,
     "metadata": {},
     "output_type": "execute_result"
    }
   ],
   "source": [
    "df.shape"
   ]
  },
  {
   "cell_type": "code",
   "execution_count": 58,
   "id": "continent-terry",
   "metadata": {},
   "outputs": [],
   "source": [
    "public_path = \"idao_dataset/public_test_prep/\"\n",
    "private_path = \"idao_dataset/private_test_prep/\""
   ]
  },
  {
   "cell_type": "code",
   "execution_count": 59,
   "id": "important-likelihood",
   "metadata": {},
   "outputs": [],
   "source": [
    "public_test = os.listdir(public_path)\n",
    "private_test = os.listdir(private_path)"
   ]
  },
  {
   "cell_type": "code",
   "execution_count": 60,
   "id": "another-expression",
   "metadata": {},
   "outputs": [
    {
     "data": {
      "text/plain": [
       "(1502, 15062)"
      ]
     },
     "execution_count": 60,
     "metadata": {},
     "output_type": "execute_result"
    }
   ],
   "source": [
    "len(public_test), len(private_test)"
   ]
  },
  {
   "cell_type": "code",
   "execution_count": 61,
   "id": "infinite-cancellation",
   "metadata": {},
   "outputs": [],
   "source": [
    "def submit(class_model, reg_model, threshold=0.5, round_on=False):\n",
    "    with open('my_submission.csv' , 'wt') as fout:\n",
    "        writer = csv.writer(fout)\n",
    "        writer.writerow(['id','classification_predictions','regression_predictions'])\n",
    "        # public\n",
    "        for name in public_test:\n",
    "            img = cv2.imread(public_path + name, cv2.IMREAD_UNCHANGED)\n",
    "            res_img = torch.reshape(to_tensor(img), (1, 1, img.shape[0], img.shape[1]))\n",
    "            # classification\n",
    "            class_res = int(class_model.forward(res_img)>threshold)\n",
    "            # regression\n",
    "            reg_res = reg_model.forward(res_img)\n",
    "            if round_on:\n",
    "                if reg_res <= 1.5:\n",
    "                    reg_res = 1.0\n",
    "                elif reg_res <= 4.5:\n",
    "                    reg_res = 3.0\n",
    "                elif reg_res <= 8.0:\n",
    "                    reg_res = 6.0\n",
    "                elif reg_res <= 15.0:\n",
    "                    reg_res = 10.0\n",
    "                elif reg_res <= 25.0:\n",
    "                    reg_res = 20.0\n",
    "                else:\n",
    "                    reg_res = 30.0\n",
    "            else:\n",
    "                if reg_res < 1.0:\n",
    "                    reg_res = 1.0\n",
    "                elif reg_res > 30.0:\n",
    "                    reg_res = 30.0\n",
    "                else:\n",
    "                    reg_res = float(reg_res)\n",
    "            # write\n",
    "            writer.writerow([name[:-4], class_res, reg_res])\n",
    "        # private\n",
    "        for name in private_test:\n",
    "            img = cv2.imread(private_path + name, cv2.IMREAD_UNCHANGED)\n",
    "            res_img = torch.reshape(to_tensor(img), (1, 1, img.shape[0], img.shape[1]))\n",
    "            # classification\n",
    "            class_res = int(class_model.forward(res_img)>threshold)\n",
    "            # regression\n",
    "            reg_res = reg_model.forward(res_img)\n",
    "            if round_on:\n",
    "                if reg_res <= 1.5:\n",
    "                    reg_res = 1.0\n",
    "                elif reg_res <= 4.5:\n",
    "                    reg_res = 3.0\n",
    "                elif reg_res <= 8.0:\n",
    "                    reg_res = 6.0\n",
    "                elif reg_res <= 15.0:\n",
    "                    reg_res = 10.0\n",
    "                elif reg_res <= 25.0:\n",
    "                    reg_res = 20.0\n",
    "                else:\n",
    "                    reg_res = 30.0\n",
    "            else:\n",
    "                if reg_res < 1.0:\n",
    "                    reg_res = 1.0\n",
    "                elif reg_res > 30.0:\n",
    "                    reg_res = 30.0\n",
    "                else:\n",
    "                    reg_res = float(reg_res)\n",
    "            # write\n",
    "            writer.writerow([name[:-4], class_res, reg_res])"
   ]
  },
  {
   "cell_type": "markdown",
   "id": "informational-minute",
   "metadata": {},
   "source": [
    "~5 minutes..."
   ]
  },
  {
   "cell_type": "code",
   "execution_count": 62,
   "id": "agreed-breeding",
   "metadata": {},
   "outputs": [
    {
     "ename": "KeyboardInterrupt",
     "evalue": "",
     "output_type": "error",
     "traceback": [
      "\u001b[0;31m---------------------------------------------------------------------------\u001b[0m",
      "\u001b[0;31mKeyboardInterrupt\u001b[0m                         Traceback (most recent call last)",
      "\u001b[0;32m<ipython-input-62-f80a1718442f>\u001b[0m in \u001b[0;36m<module>\u001b[0;34m\u001b[0m\n\u001b[0;32m----> 1\u001b[0;31m \u001b[0msubmit\u001b[0m\u001b[0;34m(\u001b[0m\u001b[0mclass_model\u001b[0m\u001b[0;34m,\u001b[0m \u001b[0mreg_model\u001b[0m\u001b[0;34m)\u001b[0m\u001b[0;34m\u001b[0m\u001b[0;34m\u001b[0m\u001b[0m\n\u001b[0m",
      "\u001b[0;32m<ipython-input-61-2452e3fc080c>\u001b[0m in \u001b[0;36msubmit\u001b[0;34m(class_model, reg_model, threshold, round_on)\u001b[0m\n\u001b[1;32m     40\u001b[0m             \u001b[0mclass_res\u001b[0m \u001b[0;34m=\u001b[0m \u001b[0mint\u001b[0m\u001b[0;34m(\u001b[0m\u001b[0mclass_model\u001b[0m\u001b[0;34m.\u001b[0m\u001b[0mforward\u001b[0m\u001b[0;34m(\u001b[0m\u001b[0mres_img\u001b[0m\u001b[0;34m)\u001b[0m\u001b[0;34m>\u001b[0m\u001b[0mthreshold\u001b[0m\u001b[0;34m)\u001b[0m\u001b[0;34m\u001b[0m\u001b[0;34m\u001b[0m\u001b[0m\n\u001b[1;32m     41\u001b[0m             \u001b[0;31m# regression\u001b[0m\u001b[0;34m\u001b[0m\u001b[0;34m\u001b[0m\u001b[0;34m\u001b[0m\u001b[0m\n\u001b[0;32m---> 42\u001b[0;31m             \u001b[0mreg_res\u001b[0m \u001b[0;34m=\u001b[0m \u001b[0mreg_model\u001b[0m\u001b[0;34m.\u001b[0m\u001b[0mforward\u001b[0m\u001b[0;34m(\u001b[0m\u001b[0mres_img\u001b[0m\u001b[0;34m)\u001b[0m\u001b[0;34m\u001b[0m\u001b[0;34m\u001b[0m\u001b[0m\n\u001b[0m\u001b[1;32m     43\u001b[0m             \u001b[0;32mif\u001b[0m \u001b[0mround_on\u001b[0m\u001b[0;34m:\u001b[0m\u001b[0;34m\u001b[0m\u001b[0;34m\u001b[0m\u001b[0m\n\u001b[1;32m     44\u001b[0m                 \u001b[0;32mif\u001b[0m \u001b[0mreg_res\u001b[0m \u001b[0;34m<=\u001b[0m \u001b[0;36m1.5\u001b[0m\u001b[0;34m:\u001b[0m\u001b[0;34m\u001b[0m\u001b[0;34m\u001b[0m\u001b[0m\n",
      "\u001b[0;32m<ipython-input-22-3ea207106645>\u001b[0m in \u001b[0;36mforward\u001b[0;34m(self, x)\u001b[0m\n\u001b[1;32m     48\u001b[0m             \u001b[0mx\u001b[0m \u001b[0;34m=\u001b[0m \u001b[0mself\u001b[0m\u001b[0;34m.\u001b[0m\u001b[0mclassification\u001b[0m\u001b[0;34m(\u001b[0m\u001b[0mx\u001b[0m\u001b[0;34m)\u001b[0m\u001b[0;34m\u001b[0m\u001b[0;34m\u001b[0m\u001b[0m\n\u001b[1;32m     49\u001b[0m         \u001b[0;32melse\u001b[0m\u001b[0;34m:\u001b[0m\u001b[0;34m\u001b[0m\u001b[0;34m\u001b[0m\u001b[0m\n\u001b[0;32m---> 50\u001b[0;31m             \u001b[0mx\u001b[0m \u001b[0;34m=\u001b[0m \u001b[0mself\u001b[0m\u001b[0;34m.\u001b[0m\u001b[0mregression\u001b[0m\u001b[0;34m(\u001b[0m\u001b[0mx\u001b[0m\u001b[0;34m)\u001b[0m\u001b[0;34m\u001b[0m\u001b[0;34m\u001b[0m\u001b[0m\n\u001b[0m\u001b[1;32m     51\u001b[0m         \u001b[0;32mreturn\u001b[0m \u001b[0mx\u001b[0m\u001b[0;34m\u001b[0m\u001b[0;34m\u001b[0m\u001b[0m\n",
      "\u001b[0;32m~/ml/lib/python3.8/site-packages/torch/nn/modules/module.py\u001b[0m in \u001b[0;36m_call_impl\u001b[0;34m(self, *input, **kwargs)\u001b[0m\n\u001b[1;32m    725\u001b[0m             \u001b[0mresult\u001b[0m \u001b[0;34m=\u001b[0m \u001b[0mself\u001b[0m\u001b[0;34m.\u001b[0m\u001b[0m_slow_forward\u001b[0m\u001b[0;34m(\u001b[0m\u001b[0;34m*\u001b[0m\u001b[0minput\u001b[0m\u001b[0;34m,\u001b[0m \u001b[0;34m**\u001b[0m\u001b[0mkwargs\u001b[0m\u001b[0;34m)\u001b[0m\u001b[0;34m\u001b[0m\u001b[0;34m\u001b[0m\u001b[0m\n\u001b[1;32m    726\u001b[0m         \u001b[0;32melse\u001b[0m\u001b[0;34m:\u001b[0m\u001b[0;34m\u001b[0m\u001b[0;34m\u001b[0m\u001b[0m\n\u001b[0;32m--> 727\u001b[0;31m             \u001b[0mresult\u001b[0m \u001b[0;34m=\u001b[0m \u001b[0mself\u001b[0m\u001b[0;34m.\u001b[0m\u001b[0mforward\u001b[0m\u001b[0;34m(\u001b[0m\u001b[0;34m*\u001b[0m\u001b[0minput\u001b[0m\u001b[0;34m,\u001b[0m \u001b[0;34m**\u001b[0m\u001b[0mkwargs\u001b[0m\u001b[0;34m)\u001b[0m\u001b[0;34m\u001b[0m\u001b[0;34m\u001b[0m\u001b[0m\n\u001b[0m\u001b[1;32m    728\u001b[0m         for hook in itertools.chain(\n\u001b[1;32m    729\u001b[0m                 \u001b[0m_global_forward_hooks\u001b[0m\u001b[0;34m.\u001b[0m\u001b[0mvalues\u001b[0m\u001b[0;34m(\u001b[0m\u001b[0;34m)\u001b[0m\u001b[0;34m,\u001b[0m\u001b[0;34m\u001b[0m\u001b[0;34m\u001b[0m\u001b[0m\n",
      "\u001b[0;32m~/ml/lib/python3.8/site-packages/torch/nn/modules/container.py\u001b[0m in \u001b[0;36mforward\u001b[0;34m(self, input)\u001b[0m\n\u001b[1;32m    115\u001b[0m     \u001b[0;32mdef\u001b[0m \u001b[0mforward\u001b[0m\u001b[0;34m(\u001b[0m\u001b[0mself\u001b[0m\u001b[0;34m,\u001b[0m \u001b[0minput\u001b[0m\u001b[0;34m)\u001b[0m\u001b[0;34m:\u001b[0m\u001b[0;34m\u001b[0m\u001b[0;34m\u001b[0m\u001b[0m\n\u001b[1;32m    116\u001b[0m         \u001b[0;32mfor\u001b[0m \u001b[0mmodule\u001b[0m \u001b[0;32min\u001b[0m \u001b[0mself\u001b[0m\u001b[0;34m:\u001b[0m\u001b[0;34m\u001b[0m\u001b[0;34m\u001b[0m\u001b[0m\n\u001b[0;32m--> 117\u001b[0;31m             \u001b[0minput\u001b[0m \u001b[0;34m=\u001b[0m \u001b[0mmodule\u001b[0m\u001b[0;34m(\u001b[0m\u001b[0minput\u001b[0m\u001b[0;34m)\u001b[0m\u001b[0;34m\u001b[0m\u001b[0;34m\u001b[0m\u001b[0m\n\u001b[0m\u001b[1;32m    118\u001b[0m         \u001b[0;32mreturn\u001b[0m \u001b[0minput\u001b[0m\u001b[0;34m\u001b[0m\u001b[0;34m\u001b[0m\u001b[0m\n\u001b[1;32m    119\u001b[0m \u001b[0;34m\u001b[0m\u001b[0m\n",
      "\u001b[0;32m~/ml/lib/python3.8/site-packages/torch/nn/modules/module.py\u001b[0m in \u001b[0;36m_call_impl\u001b[0;34m(self, *input, **kwargs)\u001b[0m\n\u001b[1;32m    725\u001b[0m             \u001b[0mresult\u001b[0m \u001b[0;34m=\u001b[0m \u001b[0mself\u001b[0m\u001b[0;34m.\u001b[0m\u001b[0m_slow_forward\u001b[0m\u001b[0;34m(\u001b[0m\u001b[0;34m*\u001b[0m\u001b[0minput\u001b[0m\u001b[0;34m,\u001b[0m \u001b[0;34m**\u001b[0m\u001b[0mkwargs\u001b[0m\u001b[0;34m)\u001b[0m\u001b[0;34m\u001b[0m\u001b[0;34m\u001b[0m\u001b[0m\n\u001b[1;32m    726\u001b[0m         \u001b[0;32melse\u001b[0m\u001b[0;34m:\u001b[0m\u001b[0;34m\u001b[0m\u001b[0;34m\u001b[0m\u001b[0m\n\u001b[0;32m--> 727\u001b[0;31m             \u001b[0mresult\u001b[0m \u001b[0;34m=\u001b[0m \u001b[0mself\u001b[0m\u001b[0;34m.\u001b[0m\u001b[0mforward\u001b[0m\u001b[0;34m(\u001b[0m\u001b[0;34m*\u001b[0m\u001b[0minput\u001b[0m\u001b[0;34m,\u001b[0m \u001b[0;34m**\u001b[0m\u001b[0mkwargs\u001b[0m\u001b[0;34m)\u001b[0m\u001b[0;34m\u001b[0m\u001b[0;34m\u001b[0m\u001b[0m\n\u001b[0m\u001b[1;32m    728\u001b[0m         for hook in itertools.chain(\n\u001b[1;32m    729\u001b[0m                 \u001b[0m_global_forward_hooks\u001b[0m\u001b[0;34m.\u001b[0m\u001b[0mvalues\u001b[0m\u001b[0;34m(\u001b[0m\u001b[0;34m)\u001b[0m\u001b[0;34m,\u001b[0m\u001b[0;34m\u001b[0m\u001b[0;34m\u001b[0m\u001b[0m\n",
      "\u001b[0;32m~/ml/lib/python3.8/site-packages/torch/nn/modules/container.py\u001b[0m in \u001b[0;36mforward\u001b[0;34m(self, input)\u001b[0m\n\u001b[1;32m    115\u001b[0m     \u001b[0;32mdef\u001b[0m \u001b[0mforward\u001b[0m\u001b[0;34m(\u001b[0m\u001b[0mself\u001b[0m\u001b[0;34m,\u001b[0m \u001b[0minput\u001b[0m\u001b[0;34m)\u001b[0m\u001b[0;34m:\u001b[0m\u001b[0;34m\u001b[0m\u001b[0;34m\u001b[0m\u001b[0m\n\u001b[1;32m    116\u001b[0m         \u001b[0;32mfor\u001b[0m \u001b[0mmodule\u001b[0m \u001b[0;32min\u001b[0m \u001b[0mself\u001b[0m\u001b[0;34m:\u001b[0m\u001b[0;34m\u001b[0m\u001b[0;34m\u001b[0m\u001b[0m\n\u001b[0;32m--> 117\u001b[0;31m             \u001b[0minput\u001b[0m \u001b[0;34m=\u001b[0m \u001b[0mmodule\u001b[0m\u001b[0;34m(\u001b[0m\u001b[0minput\u001b[0m\u001b[0;34m)\u001b[0m\u001b[0;34m\u001b[0m\u001b[0;34m\u001b[0m\u001b[0m\n\u001b[0m\u001b[1;32m    118\u001b[0m         \u001b[0;32mreturn\u001b[0m \u001b[0minput\u001b[0m\u001b[0;34m\u001b[0m\u001b[0;34m\u001b[0m\u001b[0m\n\u001b[1;32m    119\u001b[0m \u001b[0;34m\u001b[0m\u001b[0m\n",
      "\u001b[0;32m~/ml/lib/python3.8/site-packages/torch/nn/modules/module.py\u001b[0m in \u001b[0;36m_call_impl\u001b[0;34m(self, *input, **kwargs)\u001b[0m\n\u001b[1;32m    725\u001b[0m             \u001b[0mresult\u001b[0m \u001b[0;34m=\u001b[0m \u001b[0mself\u001b[0m\u001b[0;34m.\u001b[0m\u001b[0m_slow_forward\u001b[0m\u001b[0;34m(\u001b[0m\u001b[0;34m*\u001b[0m\u001b[0minput\u001b[0m\u001b[0;34m,\u001b[0m \u001b[0;34m**\u001b[0m\u001b[0mkwargs\u001b[0m\u001b[0;34m)\u001b[0m\u001b[0;34m\u001b[0m\u001b[0;34m\u001b[0m\u001b[0m\n\u001b[1;32m    726\u001b[0m         \u001b[0;32melse\u001b[0m\u001b[0;34m:\u001b[0m\u001b[0;34m\u001b[0m\u001b[0;34m\u001b[0m\u001b[0m\n\u001b[0;32m--> 727\u001b[0;31m             \u001b[0mresult\u001b[0m \u001b[0;34m=\u001b[0m \u001b[0mself\u001b[0m\u001b[0;34m.\u001b[0m\u001b[0mforward\u001b[0m\u001b[0;34m(\u001b[0m\u001b[0;34m*\u001b[0m\u001b[0minput\u001b[0m\u001b[0;34m,\u001b[0m \u001b[0;34m**\u001b[0m\u001b[0mkwargs\u001b[0m\u001b[0;34m)\u001b[0m\u001b[0;34m\u001b[0m\u001b[0;34m\u001b[0m\u001b[0m\n\u001b[0m\u001b[1;32m    728\u001b[0m         for hook in itertools.chain(\n\u001b[1;32m    729\u001b[0m                 \u001b[0m_global_forward_hooks\u001b[0m\u001b[0;34m.\u001b[0m\u001b[0mvalues\u001b[0m\u001b[0;34m(\u001b[0m\u001b[0;34m)\u001b[0m\u001b[0;34m,\u001b[0m\u001b[0;34m\u001b[0m\u001b[0;34m\u001b[0m\u001b[0m\n",
      "\u001b[0;32m~/ml/lib/python3.8/site-packages/torch/nn/modules/batchnorm.py\u001b[0m in \u001b[0;36mforward\u001b[0;34m(self, input)\u001b[0m\n\u001b[1;32m    129\u001b[0m         \u001b[0mused\u001b[0m \u001b[0;32mfor\u001b[0m \u001b[0mnormalization\u001b[0m \u001b[0;34m(\u001b[0m\u001b[0mi\u001b[0m\u001b[0;34m.\u001b[0m\u001b[0me\u001b[0m\u001b[0;34m.\u001b[0m \u001b[0;32min\u001b[0m \u001b[0meval\u001b[0m \u001b[0mmode\u001b[0m \u001b[0mwhen\u001b[0m \u001b[0mbuffers\u001b[0m \u001b[0mare\u001b[0m \u001b[0;32mnot\u001b[0m \u001b[0;32mNone\u001b[0m\u001b[0;34m)\u001b[0m\u001b[0;34m.\u001b[0m\u001b[0;34m\u001b[0m\u001b[0;34m\u001b[0m\u001b[0m\n\u001b[1;32m    130\u001b[0m         \"\"\"\n\u001b[0;32m--> 131\u001b[0;31m         return F.batch_norm(\n\u001b[0m\u001b[1;32m    132\u001b[0m             \u001b[0minput\u001b[0m\u001b[0;34m,\u001b[0m\u001b[0;34m\u001b[0m\u001b[0;34m\u001b[0m\u001b[0m\n\u001b[1;32m    133\u001b[0m             \u001b[0;31m# If buffers are not to be tracked, ensure that they won't be updated\u001b[0m\u001b[0;34m\u001b[0m\u001b[0;34m\u001b[0m\u001b[0;34m\u001b[0m\u001b[0m\n",
      "\u001b[0;32m~/ml/lib/python3.8/site-packages/torch/nn/functional.py\u001b[0m in \u001b[0;36mbatch_norm\u001b[0;34m(input, running_mean, running_var, weight, bias, training, momentum, eps)\u001b[0m\n\u001b[1;32m   2054\u001b[0m         \u001b[0m_verify_batch_size\u001b[0m\u001b[0;34m(\u001b[0m\u001b[0minput\u001b[0m\u001b[0;34m.\u001b[0m\u001b[0msize\u001b[0m\u001b[0;34m(\u001b[0m\u001b[0;34m)\u001b[0m\u001b[0;34m)\u001b[0m\u001b[0;34m\u001b[0m\u001b[0;34m\u001b[0m\u001b[0m\n\u001b[1;32m   2055\u001b[0m \u001b[0;34m\u001b[0m\u001b[0m\n\u001b[0;32m-> 2056\u001b[0;31m     return torch.batch_norm(\n\u001b[0m\u001b[1;32m   2057\u001b[0m         \u001b[0minput\u001b[0m\u001b[0;34m,\u001b[0m \u001b[0mweight\u001b[0m\u001b[0;34m,\u001b[0m \u001b[0mbias\u001b[0m\u001b[0;34m,\u001b[0m \u001b[0mrunning_mean\u001b[0m\u001b[0;34m,\u001b[0m \u001b[0mrunning_var\u001b[0m\u001b[0;34m,\u001b[0m\u001b[0;34m\u001b[0m\u001b[0;34m\u001b[0m\u001b[0m\n\u001b[1;32m   2058\u001b[0m         \u001b[0mtraining\u001b[0m\u001b[0;34m,\u001b[0m \u001b[0mmomentum\u001b[0m\u001b[0;34m,\u001b[0m \u001b[0meps\u001b[0m\u001b[0;34m,\u001b[0m \u001b[0mtorch\u001b[0m\u001b[0;34m.\u001b[0m\u001b[0mbackends\u001b[0m\u001b[0;34m.\u001b[0m\u001b[0mcudnn\u001b[0m\u001b[0;34m.\u001b[0m\u001b[0menabled\u001b[0m\u001b[0;34m\u001b[0m\u001b[0;34m\u001b[0m\u001b[0m\n",
      "\u001b[0;31mKeyboardInterrupt\u001b[0m: "
     ]
    }
   ],
   "source": [
    "submit(class_model, reg_model)"
   ]
  },
  {
   "cell_type": "code",
   "execution_count": null,
   "id": "ethical-harvard",
   "metadata": {},
   "outputs": [],
   "source": [
    "my_df = pd.read_csv(\"my_submission.csv\")"
   ]
  },
  {
   "cell_type": "code",
   "execution_count": null,
   "id": "junior-charlotte",
   "metadata": {},
   "outputs": [],
   "source": [
    "my_df.head()"
   ]
  },
  {
   "cell_type": "code",
   "execution_count": null,
   "id": "complex-suffering",
   "metadata": {},
   "outputs": [],
   "source": [
    "my_df.shape"
   ]
  },
  {
   "cell_type": "code",
   "execution_count": null,
   "id": "secret-possible",
   "metadata": {},
   "outputs": [],
   "source": []
  }
 ],
 "metadata": {
  "kernelspec": {
   "display_name": "Python 3",
   "language": "python",
   "name": "python3"
  },
  "language_info": {
   "codemirror_mode": {
    "name": "ipython",
    "version": 3
   },
   "file_extension": ".py",
   "mimetype": "text/x-python",
   "name": "python",
   "nbconvert_exporter": "python",
   "pygments_lexer": "ipython3",
   "version": "3.8.5"
  }
 },
 "nbformat": 4,
 "nbformat_minor": 5
}
